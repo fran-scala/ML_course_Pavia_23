{
  "nbformat": 4,
  "nbformat_minor": 0,
  "metadata": {
    "colab": {
      "provenance": [],
      "toc_visible": true,
      "gpuType": "T4",
      "include_colab_link": true
    },
    "kernelspec": {
      "name": "python3",
      "display_name": "Python 3"
    },
    "language_info": {
      "name": "python"
    },
    "accelerator": "GPU",
    "gpuClass": "standard"
  },
  "cells": [
    {
      "cell_type": "markdown",
      "metadata": {
        "id": "view-in-github",
        "colab_type": "text"
      },
      "source": [
        "<a href=\"https://colab.research.google.com/github/fran-scala/ML_course_Pavia_23/blob/main/pytorch_basics/pytorch_NeuralNetworks.ipynb\" target=\"_parent\"><img src=\"https://colab.research.google.com/assets/colab-badge.svg\" alt=\"Open In Colab\"/></a>"
      ]
    },
    {
      "cell_type": "markdown",
      "source": [
        "### Basics of ML with Pytorch\n",
        "\n",
        "Adapted from official [Pytorch tutorial](https://pytorch.org/tutorials/beginner/basics/intro.html) for dealing with PyTorch tensors, datasets, building neural networks etc., also has an accompanying video series."
      ],
      "metadata": {
        "id": "LYRTcMsjffTd"
      }
    },
    {
      "cell_type": "markdown",
      "source": [
        "## Build the Neural Network\n",
        "\n",
        "Neural networks comprise of layers/modules that perform operations on data. The [torch.nn](https://pytorch.org/docs/stable/nn.html) namespace provides all the building blocks you need to build your own neural network. Every module in PyTorch subclasses the [nn.Module](https://pytorch.org/docs/stable/generated/torch.nn.Module.html). A neural network is a module itself that consists of other modules (layers). This nested structure allows for building and managing complex architectures easily.\n",
        "\n",
        "In the following sections, we’ll build a neural network to classify images in the FashionMNIST dataset.\n"
      ],
      "metadata": {
        "id": "zLqa3_Xp71et"
      }
    },
    {
      "cell_type": "code",
      "source": [
        "import os\n",
        "import torch\n",
        "from torch import nn\n",
        "from torch.utils.data import DataLoader\n",
        "from torchvision import datasets, transforms\n"
      ],
      "metadata": {
        "id": "WmkoCs_d8QXU"
      },
      "execution_count": 1,
      "outputs": []
    },
    {
      "cell_type": "markdown",
      "source": [
        "### Get Device for Training\n",
        "\n",
        "We want to be able to train our model on a hardware accelerator like the GPU, if it is available. Let’s check to see if [torch.cuda](https://pytorch.org/docs/stable/notes/cuda.html) is available, else we continue to use the CPU."
      ],
      "metadata": {
        "id": "PYVHRDnm8TOi"
      }
    },
    {
      "cell_type": "code",
      "source": [
        "device = \"cuda\" if torch.cuda.is_available() else \"cpu\"\n",
        "print(f\"Using {device} device\")"
      ],
      "metadata": {
        "id": "lSsakf_z8bZo",
        "outputId": "1929a87f-6de1-4c30-8996-e72ab8db0efb",
        "colab": {
          "base_uri": "https://localhost:8080/"
        }
      },
      "execution_count": 2,
      "outputs": [
        {
          "output_type": "stream",
          "name": "stdout",
          "text": [
            "Using cuda device\n"
          ]
        }
      ]
    },
    {
      "cell_type": "markdown",
      "source": [
        "### Define the Class\n",
        "\n",
        "We define our neural network by subclassing `nn.Module`, and initialize the neural network layers in `__init__`. Every `nn.Module` subclass implements the operations on input data in the `forward` method."
      ],
      "metadata": {
        "id": "qLhOQc6Y8fPh"
      }
    },
    {
      "cell_type": "code",
      "source": [
        "class NeuralNetwork(nn.Module):\n",
        "    def __init__(self):\n",
        "        super(NeuralNetwork, self).__init__()\n",
        "        self.flatten = nn.Flatten()\n",
        "        self.linear_relu_stack = nn.Sequential(\n",
        "            nn.Linear(in_features=28*28, out_features=512),\n",
        "            nn.ReLU(),\n",
        "            nn.Linear(in_features=512, out_features=512),\n",
        "            nn.ReLU(),\n",
        "            nn.Linear(in_features=512, out_features=10),\n",
        "        )\n",
        "\n",
        "    def forward(self, x):\n",
        "        x = self.flatten(x)\n",
        "        logits = self.linear_relu_stack(x)\n",
        "        return logits"
      ],
      "metadata": {
        "id": "A1JzqTbt8kjO"
      },
      "execution_count": 11,
      "outputs": []
    },
    {
      "cell_type": "markdown",
      "source": [
        "We create an instance of `NeuralNetwork`, and move it to the `device`, and print its structure."
      ],
      "metadata": {
        "id": "J1T4HVeE8po9"
      }
    },
    {
      "cell_type": "code",
      "source": [
        "model = NeuralNetwork().to(device)\n",
        "print(model)"
      ],
      "metadata": {
        "id": "i5S2Y0UX8t5D",
        "outputId": "b475ae01-fa6b-4d78-ff4d-217f1ff7986b",
        "colab": {
          "base_uri": "https://localhost:8080/"
        }
      },
      "execution_count": 6,
      "outputs": [
        {
          "output_type": "stream",
          "name": "stdout",
          "text": [
            "NeuralNetwork(\n",
            "  (flatten): Flatten(start_dim=1, end_dim=-1)\n",
            "  (linear_relu_stack): Sequential(\n",
            "    (0): Linear(in_features=784, out_features=512, bias=True)\n",
            "    (1): ReLU()\n",
            "    (2): Linear(in_features=512, out_features=512, bias=True)\n",
            "    (3): ReLU()\n",
            "    (4): Linear(in_features=512, out_features=10, bias=True)\n",
            "  )\n",
            ")\n"
          ]
        }
      ]
    },
    {
      "cell_type": "markdown",
      "source": [
        "To use the model, we pass it the input data. This executes the model’s `forward`.\n",
        "\n",
        "Calling the model on the input returns a 2-dimensional tensor with dim=0 corresponding to each output of 10 raw predicted values for each class, and dim=1 corresponding to the individual values of each output. We get the prediction probabilities by passing it through an instance of the `nn.Softmax` module."
      ],
      "metadata": {
        "id": "iDYias168yR1"
      }
    },
    {
      "cell_type": "code",
      "source": [
        "X = torch.rand(1, 28, 28, device=device)\n",
        "logits = model(X)\n",
        "pred_probab = nn.Softmax(dim=1)(logits)\n",
        "y_pred = pred_probab.argmax(1)\n",
        "print(f\"Predicted class: {y_pred}\")"
      ],
      "metadata": {
        "id": "Yjj-R1zi9f9_",
        "outputId": "279f9c5c-c8b2-4741-a460-ff929517802f",
        "colab": {
          "base_uri": "https://localhost:8080/"
        }
      },
      "execution_count": 7,
      "outputs": [
        {
          "output_type": "stream",
          "name": "stdout",
          "text": [
            "Predicted class: tensor([4], device='cuda:0')\n"
          ]
        }
      ]
    },
    {
      "cell_type": "markdown",
      "source": [
        "### Model Layers\n",
        "\n",
        "Let’s break down the layers in the FashionMNIST model. To illustrate it, we will take a sample minibatch of 3 images of size 28x28 and see what happens to it as we pass it through the network."
      ],
      "metadata": {
        "id": "wGDMGpIR-Uvl"
      }
    },
    {
      "cell_type": "code",
      "source": [
        "input_image = torch.rand(3,28,28)\n",
        "print(input_image.size())"
      ],
      "metadata": {
        "id": "4iz2NGn7-cgB",
        "outputId": "7964847a-9593-4e69-da9c-b4db99cda499",
        "colab": {
          "base_uri": "https://localhost:8080/"
        }
      },
      "execution_count": 8,
      "outputs": [
        {
          "output_type": "stream",
          "name": "stdout",
          "text": [
            "torch.Size([3, 28, 28])\n"
          ]
        }
      ]
    },
    {
      "cell_type": "markdown",
      "source": [
        "**nn.Flatten**\n",
        "\n",
        "We initialize the [`nn.Flatten`](https://pytorch.org/docs/stable/generated/torch.nn.Flatten.html) layer to convert each 2D 28x28 image into a contiguous array of 784 pixel values (the minibatch dimension (at dim=0) is maintained).\n",
        "\n"
      ],
      "metadata": {
        "id": "g5MvoDWG-gtz"
      }
    },
    {
      "cell_type": "code",
      "source": [
        "flatten = nn.Flatten()\n",
        "flat_image = flatten(input_image)\n",
        "print(flat_image.size())"
      ],
      "metadata": {
        "id": "nPCEX-2V-4pI",
        "outputId": "42bc69ed-dac6-406b-bc7f-08b35279621e",
        "colab": {
          "base_uri": "https://localhost:8080/"
        }
      },
      "execution_count": 9,
      "outputs": [
        {
          "output_type": "stream",
          "name": "stdout",
          "text": [
            "torch.Size([3, 784])\n"
          ]
        }
      ]
    },
    {
      "cell_type": "markdown",
      "source": [
        "**nn.Linear**\n",
        "\n",
        "The [linear layer](https://pytorch.org/docs/stable/generated/torch.nn.Linear.html) is a module that applies a linear transformation on the input using its stored weights and biases."
      ],
      "metadata": {
        "id": "hYX_wGvz-31r"
      }
    },
    {
      "cell_type": "code",
      "source": [
        "layer1 = nn.Linear(in_features=28*28, out_features=20)\n",
        "hidden1 = layer1(flat_image)\n",
        "print(hidden1.size())"
      ],
      "metadata": {
        "id": "0OTtNFni-7uZ",
        "outputId": "e56c6d20-be6b-409e-b918-5e8883eb505e",
        "colab": {
          "base_uri": "https://localhost:8080/"
        }
      },
      "execution_count": 10,
      "outputs": [
        {
          "output_type": "stream",
          "name": "stdout",
          "text": [
            "torch.Size([3, 20])\n"
          ]
        }
      ]
    },
    {
      "cell_type": "markdown",
      "source": [
        "**nn.ReLU**\n",
        "\n",
        "Non-linear activations are what create the complex mappings between the model’s inputs and outputs. They are applied after linear transformations to introduce nonlinearity, helping neural networks learn a wide variety of phenomena.\n",
        "\n",
        "In this model, we use [`nn.ReLU`](https://pytorch.org/docs/stable/generated/torch.nn.ReLU.html) between our linear layers, but there’s other activations to introduce non-linearity in your model."
      ],
      "metadata": {
        "id": "8CkWAD1B_WN1"
      }
    },
    {
      "cell_type": "code",
      "source": [
        "print(f\"Before ReLU: {hidden1}\\n\\n\")\n",
        "hidden1 = nn.ReLU()(hidden1)\n",
        "print(f\"After ReLU: {hidden1}\")"
      ],
      "metadata": {
        "id": "3kW1AbfK_kc3",
        "outputId": "c41b84c3-498d-4c3a-c451-2dd3367a2fc6",
        "colab": {
          "base_uri": "https://localhost:8080/"
        }
      },
      "execution_count": 12,
      "outputs": [
        {
          "output_type": "stream",
          "name": "stdout",
          "text": [
            "Before ReLU: tensor([[ 0.4039, -0.4697, -0.2592,  0.4818, -0.1260,  0.3303,  0.1318, -0.1828,\n",
            "         -0.2347,  0.0159,  0.6370, -0.5461, -0.2207, -0.1485,  0.1660,  0.0326,\n",
            "         -0.8316, -0.4009, -0.4623, -0.2844],\n",
            "        [ 0.4505, -0.6490, -0.2419,  0.4607, -0.0654,  0.3776,  0.1729, -0.3723,\n",
            "         -0.0433, -0.0523,  0.5898, -0.4153,  0.1827, -0.1918, -0.0350,  0.1203,\n",
            "         -0.6220, -0.1628, -0.5615,  0.1783],\n",
            "        [ 0.1976, -0.4350, -0.4629,  0.1026, -0.1126,  0.4873,  0.3183, -0.2157,\n",
            "         -0.4743,  0.1029,  0.6439, -0.3767, -0.0084, -0.1157, -0.0382, -0.2817,\n",
            "         -0.3793, -0.2545, -0.0321, -0.3870]], grad_fn=<AddmmBackward0>)\n",
            "\n",
            "\n",
            "After ReLU: tensor([[0.4039, 0.0000, 0.0000, 0.4818, 0.0000, 0.3303, 0.1318, 0.0000, 0.0000,\n",
            "         0.0159, 0.6370, 0.0000, 0.0000, 0.0000, 0.1660, 0.0326, 0.0000, 0.0000,\n",
            "         0.0000, 0.0000],\n",
            "        [0.4505, 0.0000, 0.0000, 0.4607, 0.0000, 0.3776, 0.1729, 0.0000, 0.0000,\n",
            "         0.0000, 0.5898, 0.0000, 0.1827, 0.0000, 0.0000, 0.1203, 0.0000, 0.0000,\n",
            "         0.0000, 0.1783],\n",
            "        [0.1976, 0.0000, 0.0000, 0.1026, 0.0000, 0.4873, 0.3183, 0.0000, 0.0000,\n",
            "         0.1029, 0.6439, 0.0000, 0.0000, 0.0000, 0.0000, 0.0000, 0.0000, 0.0000,\n",
            "         0.0000, 0.0000]], grad_fn=<ReluBackward0>)\n"
          ]
        }
      ]
    },
    {
      "cell_type": "markdown",
      "source": [
        "**nn.Sequential**\n",
        "\n",
        "[`nn.Sequential`](https://pytorch.org/docs/stable/generated/torch.nn.Sequential.html) is an ordered container of modules. The data is passed through all the modules in the same order as defined. You can use sequential containers to put together a quick network like `seq_modules`."
      ],
      "metadata": {
        "id": "x8trQ1l6_sz-"
      }
    },
    {
      "cell_type": "code",
      "source": [
        "seq_modules = nn.Sequential(\n",
        "    flatten,\n",
        "    layer1,\n",
        "    nn.ReLU(),\n",
        "    nn.Linear(20, 10)\n",
        ")\n",
        "input_image = torch.rand(3,28,28)\n",
        "logits = seq_modules(input_image)\n",
        "print(logits)"
      ],
      "metadata": {
        "id": "G6UpMoKCAM1t",
        "outputId": "19e11d62-bb4d-4d65-f999-c0fa96fd14bc",
        "colab": {
          "base_uri": "https://localhost:8080/"
        }
      },
      "execution_count": 13,
      "outputs": [
        {
          "output_type": "stream",
          "name": "stdout",
          "text": [
            "tensor([[ 0.0603, -0.1289,  0.2880, -0.1148, -0.0916, -0.0932, -0.3162, -0.1412,\n",
            "         -0.2696,  0.1140],\n",
            "        [ 0.1076, -0.1399,  0.4413, -0.0280, -0.1889, -0.1256, -0.2858, -0.1921,\n",
            "         -0.3097,  0.1020],\n",
            "        [ 0.0768, -0.2599,  0.3413, -0.1198, -0.2465, -0.1743, -0.3428, -0.2358,\n",
            "         -0.3937,  0.1552]], grad_fn=<AddmmBackward0>)\n"
          ]
        }
      ]
    },
    {
      "cell_type": "markdown",
      "source": [
        "**nn.Softmax**\n",
        "\n",
        "The last linear layer of the neural network returns logits - values in [-infty, infty] - which are passed to the [`nn.Softmax`](https://pytorch.org/docs/stable/generated/torch.nn.Softmax.html) module. The logits are scaled to values [0, 1] representing the model’s predicted probabilities for each class. `dim` parameter indicates the dimension along which the values must sum to 1."
      ],
      "metadata": {
        "id": "5FJ-3DB-ASqc"
      }
    },
    {
      "cell_type": "code",
      "source": [
        "softmax = nn.Softmax(dim=1) #softmax is over the columns per each row\n",
        "pred_probab = softmax(logits)\n",
        "print(pred_probab)"
      ],
      "metadata": {
        "id": "_wxcRRgiAjza",
        "outputId": "541c8b31-d9af-47e7-d075-eac319a7a6e6",
        "colab": {
          "base_uri": "https://localhost:8080/"
        }
      },
      "execution_count": 14,
      "outputs": [
        {
          "output_type": "stream",
          "name": "stdout",
          "text": [
            "tensor([[0.1121, 0.0928, 0.1408, 0.0941, 0.0963, 0.0962, 0.0770, 0.0917, 0.0806,\n",
            "         0.1183],\n",
            "        [0.1155, 0.0902, 0.1613, 0.1009, 0.0859, 0.0915, 0.0780, 0.0856, 0.0761,\n",
            "         0.1149],\n",
            "        [0.1186, 0.0847, 0.1544, 0.0974, 0.0858, 0.0922, 0.0779, 0.0867, 0.0741,\n",
            "         0.1282]], grad_fn=<SoftmaxBackward0>)\n"
          ]
        }
      ]
    },
    {
      "cell_type": "markdown",
      "source": [
        "### Model Parameters\n",
        "\n",
        "Many layers inside a neural network are parameterized, i.e. have associated weights and biases that are optimized during training. Subclassing `nn.Module` automatically tracks all fields defined inside your model object, and makes all parameters accessible using your model’s `parameters()` or `named_parameters()` methods.\n",
        "\n",
        "In this example, we iterate over each parameter, and print its size and a preview of its values."
      ],
      "metadata": {
        "id": "glE-gs_3H2i3"
      }
    },
    {
      "cell_type": "code",
      "source": [
        "print(f\"Model structure: {model}\\n\\n\")\n",
        "\n",
        "for name, param in model.named_parameters():\n",
        "    print(f\"Layer: {name} | Size: {param.size()} | Values : {param[:2]} \\n\")"
      ],
      "metadata": {
        "id": "pvAKVy-jJhzY",
        "outputId": "78de790f-28d1-49ee-b0a8-282562593bbf",
        "colab": {
          "base_uri": "https://localhost:8080/"
        }
      },
      "execution_count": 15,
      "outputs": [
        {
          "output_type": "stream",
          "name": "stdout",
          "text": [
            "Model structure: NeuralNetwork(\n",
            "  (flatten): Flatten(start_dim=1, end_dim=-1)\n",
            "  (linear_relu_stack): Sequential(\n",
            "    (0): Linear(in_features=784, out_features=512, bias=True)\n",
            "    (1): ReLU()\n",
            "    (2): Linear(in_features=512, out_features=512, bias=True)\n",
            "    (3): ReLU()\n",
            "    (4): Linear(in_features=512, out_features=10, bias=True)\n",
            "  )\n",
            ")\n",
            "\n",
            "\n",
            "Layer: linear_relu_stack.0.weight | Size: torch.Size([512, 784]) | Values : tensor([[ 0.0277,  0.0174,  0.0102,  ...,  0.0035, -0.0245,  0.0216],\n",
            "        [-0.0341, -0.0111, -0.0098,  ..., -0.0021,  0.0273, -0.0190]],\n",
            "       device='cuda:0', grad_fn=<SliceBackward0>) \n",
            "\n",
            "Layer: linear_relu_stack.0.bias | Size: torch.Size([512]) | Values : tensor([-0.0136, -0.0014], device='cuda:0', grad_fn=<SliceBackward0>) \n",
            "\n",
            "Layer: linear_relu_stack.2.weight | Size: torch.Size([512, 512]) | Values : tensor([[-0.0381,  0.0174, -0.0386,  ...,  0.0261,  0.0129, -0.0124],\n",
            "        [-0.0319,  0.0367, -0.0066,  ...,  0.0201, -0.0137,  0.0255]],\n",
            "       device='cuda:0', grad_fn=<SliceBackward0>) \n",
            "\n",
            "Layer: linear_relu_stack.2.bias | Size: torch.Size([512]) | Values : tensor([0.0254, 0.0368], device='cuda:0', grad_fn=<SliceBackward0>) \n",
            "\n",
            "Layer: linear_relu_stack.4.weight | Size: torch.Size([10, 512]) | Values : tensor([[ 0.0432,  0.0349,  0.0405,  ...,  0.0189,  0.0397, -0.0205],\n",
            "        [ 0.0037, -0.0003,  0.0152,  ..., -0.0221,  0.0404,  0.0201]],\n",
            "       device='cuda:0', grad_fn=<SliceBackward0>) \n",
            "\n",
            "Layer: linear_relu_stack.4.bias | Size: torch.Size([10]) | Values : tensor([0.0332, 0.0350], device='cuda:0', grad_fn=<SliceBackward0>) \n",
            "\n"
          ]
        }
      ]
    },
    {
      "cell_type": "markdown",
      "source": [
        "## Automatic Differentiation with `torch.autograd`\n",
        "\n",
        "When training neural networks, the most frequently used algorithm is **back propagation**. In this algorithm, parameters (model weights) are adjusted according to the **gradient** of the loss function with respect to the given parameter.\n",
        "\n",
        "To compute those gradients, PyTorch has a built-in differentiation engine called `torch.autograd`. It supports automatic computation of gradient for any computational graph.\n",
        "\n",
        "Consider the simplest one-layer neural network, with input `x`, parameters `w` and `b`, and some loss function. It can be defined in PyTorch in the following manner:"
      ],
      "metadata": {
        "id": "qnGZJmo0JyFJ"
      }
    },
    {
      "cell_type": "code",
      "source": [
        "import torch\n",
        "\n",
        "x = torch.ones(5)  # input tensor\n",
        "y = torch.zeros(3)  # expected output\n",
        "w = torch.randn(5, 3, requires_grad=True)\n",
        "b = torch.randn(3, requires_grad=True)\n",
        "z = torch.matmul(x, w)+b\n",
        "loss = torch.nn.functional.binary_cross_entropy_with_logits(z, y)"
      ],
      "metadata": {
        "id": "86v8CQO4-eM7"
      },
      "execution_count": 16,
      "outputs": []
    },
    {
      "cell_type": "markdown",
      "source": [
        "In this network, `w` and `b` are parameters, which we need to optimize. Thus, we need to be able to compute the gradients of loss function with respect to those variables. In order to do that, we set the `requires_grad` property of those tensors."
      ],
      "metadata": {
        "id": "seY2qP4pgpf5"
      }
    },
    {
      "cell_type": "markdown",
      "source": [
        "### Computing Gradients\n",
        "\n",
        "To optimize weights of parameters in the neural network, we need to compute the derivatives of our loss function with respect to the parameters under some fixed values of `x` and `y`. To compute those derivatives, we call `loss.backward()`, and then retrieve the values from `w.grad` and `b.grad`:"
      ],
      "metadata": {
        "id": "hQzbakYZh7nz"
      }
    },
    {
      "cell_type": "code",
      "source": [
        "loss.backward()\n",
        "print(w.grad)\n",
        "print(b.grad)"
      ],
      "metadata": {
        "id": "1l_xiMb5hCoR",
        "outputId": "c38ec7d4-5322-4dd1-a436-def9ad9ea8c5",
        "colab": {
          "base_uri": "https://localhost:8080/"
        }
      },
      "execution_count": 17,
      "outputs": [
        {
          "output_type": "stream",
          "name": "stdout",
          "text": [
            "tensor([[0.2084, 0.2201, 0.0440],\n",
            "        [0.2084, 0.2201, 0.0440],\n",
            "        [0.2084, 0.2201, 0.0440],\n",
            "        [0.2084, 0.2201, 0.0440],\n",
            "        [0.2084, 0.2201, 0.0440]])\n",
            "tensor([0.2084, 0.2201, 0.0440])\n"
          ]
        }
      ]
    },
    {
      "cell_type": "markdown",
      "source": [
        "**NOTE**\n",
        "\n",
        "\n",
        "\n",
        "* We can only obtain the grad properties for the leaf nodes of the computational graph, which have `requires_grad` property set to `True`. For all other nodes in our graph, gradients will not be available.\n",
        "\n",
        "* We can only perform gradient calculations using `backward` once on a given graph, for performance reasons. If we need to do several backward calls on the same graph, we need to pass `retain_graph=True` to the backward call.\n"
      ],
      "metadata": {
        "id": "TI9PXO7BFP1W"
      }
    },
    {
      "cell_type": "markdown",
      "source": [
        "### Disabling Gradient Tracking\n",
        "\n",
        "By default, all tensors with `requires_grad=True` are tracking their computational history and support gradient computation. However, there are some cases when we do not need to do that, for example, when we have trained the model and just want to apply it to some input data, i.e. we only want to do forward computations through the network. We can stop tracking computations by surrounding our computation code with `torch.no_grad()` block:"
      ],
      "metadata": {
        "id": "AvlUPDwCjgDu"
      }
    },
    {
      "cell_type": "code",
      "source": [
        "z = torch.matmul(x, w)+b\n",
        "print(z.requires_grad)\n",
        "\n",
        "with torch.no_grad():\n",
        "    z = torch.matmul(x, w)+b\n",
        "print(z.requires_grad)"
      ],
      "metadata": {
        "id": "Rx4qDH0ljmR5",
        "outputId": "8d3293b2-684f-42cb-801a-883fd75b69fb",
        "colab": {
          "base_uri": "https://localhost:8080/"
        }
      },
      "execution_count": 18,
      "outputs": [
        {
          "output_type": "stream",
          "name": "stdout",
          "text": [
            "True\n",
            "False\n"
          ]
        }
      ]
    },
    {
      "cell_type": "markdown",
      "source": [
        "Another way to achieve the same result is to use the `detach()` method on the tensor:"
      ],
      "metadata": {
        "id": "KvlFBn4cjqqF"
      }
    },
    {
      "cell_type": "code",
      "source": [
        "z = torch.matmul(x, w)+b\n",
        "z_det = z.detach()\n",
        "print(z_det.requires_grad)"
      ],
      "metadata": {
        "id": "n_BQ-pjFjsBF",
        "outputId": "4710682c-85f0-416f-f69f-632acf083762",
        "colab": {
          "base_uri": "https://localhost:8080/"
        }
      },
      "execution_count": 19,
      "outputs": [
        {
          "output_type": "stream",
          "name": "stdout",
          "text": [
            "False\n"
          ]
        }
      ]
    },
    {
      "cell_type": "markdown",
      "source": [
        "\n",
        "There are reasons you might want to disable gradient tracking:\n",
        "\n",
        "* To mark some parameters in your neural network as **frozen parameters**.\n",
        "\n",
        "* To **speed up computations** when you are only doing forward pass, because computations on tensors that do not track gradients would be more efficient.\n",
        "\n"
      ],
      "metadata": {
        "id": "QFm9kAFxjw6b"
      }
    },
    {
      "cell_type": "markdown",
      "source": [
        "### Computational graphs\n",
        "\n",
        "The simple NN created above defines the following **computational graph**:"
      ],
      "metadata": {
        "id": "Sr85ZJ-Clthh"
      }
    },
    {
      "cell_type": "markdown",
      "source": [
        "![](https://pytorch.org/tutorials/_images/comp-graph.png)"
      ],
      "metadata": {
        "id": "hf9ON63LmYMm"
      }
    },
    {
      "cell_type": "markdown",
      "source": [
        "A function that we apply to tensors to construct computational graph is in fact an object of class `Function`. This object knows how to compute the function in the *forward* direction, and also how to compute its derivative during the *backward* propagation step. A reference to the backward propagation function is stored in `grad_fn` property of a tensor. You can find more information of `Function` [in the documentation](https://pytorch.org/docs/stable/autograd.html#function)."
      ],
      "metadata": {
        "id": "aobf11G1mZQq"
      }
    },
    {
      "cell_type": "code",
      "source": [
        "x = torch.ones(5)  # input tensor\n",
        "y = torch.zeros(3)  # expected output\n",
        "w = torch.randn(5, 3, requires_grad=True)\n",
        "b = torch.randn(3, requires_grad=True)\n",
        "z = torch.matmul(x, w)+b\n",
        "loss = torch.nn.functional.binary_cross_entropy_with_logits(z, y)\n",
        "\n",
        "print(f\"Gradient function for z = {z.grad_fn}\")\n",
        "print(f\"Gradient function for loss = {loss.grad_fn}\")"
      ],
      "metadata": {
        "id": "2GDihJRdnBWh",
        "outputId": "2a3714e3-f254-482c-9001-0e7277675d1c",
        "colab": {
          "base_uri": "https://localhost:8080/"
        }
      },
      "execution_count": 20,
      "outputs": [
        {
          "output_type": "stream",
          "name": "stdout",
          "text": [
            "Gradient function for z = <AddBackward0 object at 0x7f79f71a28c0>\n",
            "Gradient function for loss = <BinaryCrossEntropyWithLogitsBackward0 object at 0x7f79f71a0130>\n"
          ]
        }
      ]
    },
    {
      "cell_type": "markdown",
      "source": [
        "Conceptually, autograd keeps a record of data (tensors) and all executed operations (along with the resulting new tensors) in a [directed acyclic graph (DAG)](https://en.wikipedia.org/wiki/Directed_acyclic_graph) consisting of [`Function`](https://pytorch.org/docs/stable/autograd.html#torch.autograd.Function) objects. In this DAG, leaves are the input tensors, roots are the output tensors. By tracing this graph from roots to leaves, you can automatically compute the gradients using the chain rule.\n",
        "\n",
        "In a forward pass, autograd does two things simultaneously:\n",
        "\n",
        "* run the requested operation to compute a resulting tensor\n",
        "* maintain the operation’s gradient function in the DAG.\n",
        "\n",
        "The backward pass kicks off when `.backward()` is called on the DAG root. autograd then:\n",
        "\n",
        "* computes the gradients from each `.grad_fn`,\n",
        "* accumulates them in the respective tensor’s `.grad` attribute\n",
        "* using the chain rule, propagates all the way to the leaf tensors.\n",
        "\n",
        "**NOTE**\n",
        "\n",
        "DAGs are dynamic in PyTorch An important thing to note is that the graph is recreated from scratch; after each `.backward()` call, autograd starts populating a new graph. This is exactly what allows you to use control flow statements in your model; you can change the shape, size and operations at every iteration if needed.\n",
        "\n"
      ],
      "metadata": {
        "id": "MbbBxbm_nsh1"
      }
    },
    {
      "cell_type": "markdown",
      "source": [
        "### Tensor Gradients and Jacobian Products\n",
        "\n",
        "In many cases, we have a scalar loss function, and we need to compute the gradient with respect to some parameters. However, there are cases when the output function is an arbitrary tensor. In this case, PyTorch allows you to compute so-called **Jacobian product**, and not the actual gradient.\n",
        "\n",
        "For a vector function $\\vec{y}=f(\\vec{x})$, where $\\vec{x} = \\langle x_1,...,x_n \\rangle$ and $\\vec{y} = \\langle y_1,...,y_m \\rangle$, a gradient of $\\vec{y}$ with respect to $\\vec{x}$ is given by the **Jacobian matrix**: \n",
        "\n",
        "\\begin{equation}\n",
        "J = \\begin{pmatrix}\n",
        "\\frac{\\partial y_1}{\\partial x_1} & ... & \\frac{\\partial y_1}{\\partial x_n}\\\\\n",
        "\\vdots & \\ddots & \\vdots\\\\\n",
        "\\frac{\\partial y_m}{\\partial x_1} & ... & \\frac{\\partial y_n}{\\partial x_n}\n",
        "\\end{pmatrix}\n",
        "\\end{equation}\n",
        "\n",
        "Instead of computing the Jacobian matrix itself, PyTorch allows you to compute **Jacobian Product** $v^T \\cdot J$ for the given input vector $\\vec{v} = \\langle v_1,...,v_m \\rangle$. This is achieved by calling `backward` with $v$ as an argument. The size of $\\vec{v}$ should be the same as the size of the original tensor, with respect to which we want to compute the product:"
      ],
      "metadata": {
        "id": "bfu7n8KiwlLO"
      }
    },
    {
      "cell_type": "code",
      "source": [
        "inp = torch.eye(4, 5, requires_grad=True) #Returns a 2-D tensor with ones on the diagonal and zeros elsewhere.\n",
        "out = (inp+1).pow(2).t()\n",
        "out.backward(torch.ones_like(out), retain_graph=True)\n",
        "print(f\"First call\\n{inp.grad}\")\n",
        "out.backward(torch.ones_like(out), retain_graph=True)\n",
        "print(f\"\\nSecond call\\n{inp.grad}\")\n",
        "inp.grad.zero_()\n",
        "out.backward(torch.ones_like(out), retain_graph=True)\n",
        "print(f\"\\nCall after zeroing gradients\\n{inp.grad}\")"
      ],
      "metadata": {
        "id": "P5XDfCqtnsKW"
      },
      "execution_count": null,
      "outputs": []
    },
    {
      "cell_type": "markdown",
      "source": [
        "Notice that when we call `backward` for the second time with the same argument, the value of the gradient is different. This happens because when doing backward propagation, PyTorch accumulates the gradients, i.e. the value of computed gradients is added to the grad property of all leaf nodes of computational graph. If you want to compute the proper gradients, you need to zero out the grad property before. In real-life training an optimizer helps us to do this.\n",
        "\n",
        "**NOTE**\n",
        "\n",
        "Previously we were calling the `backward()` function without parameters. This is essentially equivalent to calling `backward(torch.tensor(1.0))`, which is a useful way to compute the gradients in case of a scalar-valued function, such as loss during neural network training."
      ],
      "metadata": {
        "id": "XlZ_U19GJuK3"
      }
    },
    {
      "cell_type": "markdown",
      "source": [
        "## Optimizing Model Parameters\n",
        "\n",
        "Now that we have a model and data it’s time to train, validate and test our model by optimizing its parameters on our data. Training a model is an iterative process; in each iteration the model makes a guess about the output, calculates the error in its guess (loss), collects the derivatives of the error with respect to its parameters, and optimizes these parameters using gradient descent. \n",
        "\n",
        "Let's start from scratch:"
      ],
      "metadata": {
        "id": "E5tlCwRvKh0g"
      }
    },
    {
      "cell_type": "code",
      "source": [
        "import torch\n",
        "from torch import nn\n",
        "from torch.utils.data import DataLoader\n",
        "from torchvision import datasets\n",
        "from torchvision.transforms import ToTensor\n",
        "\n",
        "training_data = datasets.FashionMNIST(\n",
        "    root=\"data\",\n",
        "    train=True,\n",
        "    download=True,\n",
        "    transform=ToTensor()\n",
        ")\n",
        "\n",
        "test_data = datasets.FashionMNIST(\n",
        "    root=\"data\",\n",
        "    train=False,\n",
        "    download=True,\n",
        "    transform=ToTensor()\n",
        ")\n",
        "\n",
        "train_dataloader = DataLoader(training_data, batch_size=64)\n",
        "test_dataloader = DataLoader(test_data, batch_size=64)\n",
        "\n",
        "class NeuralNetwork(nn.Module):\n",
        "    def __init__(self):\n",
        "        super(NeuralNetwork, self).__init__()\n",
        "        self.flatten = nn.Flatten()\n",
        "        self.linear_relu_stack = nn.Sequential(\n",
        "            nn.Linear(28*28, 512),\n",
        "            nn.ReLU(),\n",
        "            nn.Linear(512, 512),\n",
        "            nn.ReLU(),\n",
        "            nn.Linear(512, 10),\n",
        "        )\n",
        "\n",
        "    def forward(self, x):# you need to define the forward step!\n",
        "        x = self.flatten(x)\n",
        "        logits = self.linear_relu_stack(x)\n",
        "        return logits\n",
        "\n",
        "model = NeuralNetwork()"
      ],
      "metadata": {
        "id": "Tt7COBEhK79J",
        "outputId": "4de4c0ed-52c7-4020-aae8-c9ae713dbea6",
        "colab": {
          "base_uri": "https://localhost:8080/"
        }
      },
      "execution_count": 21,
      "outputs": [
        {
          "output_type": "stream",
          "name": "stdout",
          "text": [
            "Downloading http://fashion-mnist.s3-website.eu-central-1.amazonaws.com/train-images-idx3-ubyte.gz\n",
            "Downloading http://fashion-mnist.s3-website.eu-central-1.amazonaws.com/train-images-idx3-ubyte.gz to data/FashionMNIST/raw/train-images-idx3-ubyte.gz\n"
          ]
        },
        {
          "output_type": "stream",
          "name": "stderr",
          "text": [
            "100%|██████████| 26421880/26421880 [00:01<00:00, 19206105.14it/s]\n"
          ]
        },
        {
          "output_type": "stream",
          "name": "stdout",
          "text": [
            "Extracting data/FashionMNIST/raw/train-images-idx3-ubyte.gz to data/FashionMNIST/raw\n",
            "\n",
            "Downloading http://fashion-mnist.s3-website.eu-central-1.amazonaws.com/train-labels-idx1-ubyte.gz\n",
            "Downloading http://fashion-mnist.s3-website.eu-central-1.amazonaws.com/train-labels-idx1-ubyte.gz to data/FashionMNIST/raw/train-labels-idx1-ubyte.gz\n"
          ]
        },
        {
          "output_type": "stream",
          "name": "stderr",
          "text": [
            "100%|██████████| 29515/29515 [00:00<00:00, 333580.02it/s]\n"
          ]
        },
        {
          "output_type": "stream",
          "name": "stdout",
          "text": [
            "Extracting data/FashionMNIST/raw/train-labels-idx1-ubyte.gz to data/FashionMNIST/raw\n",
            "\n",
            "Downloading http://fashion-mnist.s3-website.eu-central-1.amazonaws.com/t10k-images-idx3-ubyte.gz\n",
            "Downloading http://fashion-mnist.s3-website.eu-central-1.amazonaws.com/t10k-images-idx3-ubyte.gz to data/FashionMNIST/raw/t10k-images-idx3-ubyte.gz\n"
          ]
        },
        {
          "output_type": "stream",
          "name": "stderr",
          "text": [
            "100%|██████████| 4422102/4422102 [00:00<00:00, 6285158.20it/s]\n"
          ]
        },
        {
          "output_type": "stream",
          "name": "stdout",
          "text": [
            "Extracting data/FashionMNIST/raw/t10k-images-idx3-ubyte.gz to data/FashionMNIST/raw\n",
            "\n",
            "Downloading http://fashion-mnist.s3-website.eu-central-1.amazonaws.com/t10k-labels-idx1-ubyte.gz\n",
            "Downloading http://fashion-mnist.s3-website.eu-central-1.amazonaws.com/t10k-labels-idx1-ubyte.gz to data/FashionMNIST/raw/t10k-labels-idx1-ubyte.gz\n"
          ]
        },
        {
          "output_type": "stream",
          "name": "stderr",
          "text": [
            "100%|██████████| 5148/5148 [00:00<00:00, 16444993.90it/s]"
          ]
        },
        {
          "output_type": "stream",
          "name": "stdout",
          "text": [
            "Extracting data/FashionMNIST/raw/t10k-labels-idx1-ubyte.gz to data/FashionMNIST/raw\n",
            "\n"
          ]
        },
        {
          "output_type": "stream",
          "name": "stderr",
          "text": [
            "\n"
          ]
        }
      ]
    },
    {
      "cell_type": "markdown",
      "source": [
        "### Hyperparameters\n",
        "\n",
        "Hyperparameters are adjustable parameters that let you control the model optimization process. Different hyperparameter values can impact model training and convergence rates (read more about hyperparameter tuning)\n",
        "\n",
        "We define the following hyperparameters for training:\n",
        "\n",
        "* **Number of Epochs** - the number times to iterate over the dataset\n",
        "* **Batch Size** - the number of data samples propagated through the network before the parameters are updated\n",
        "* **Learning Rate** - how much to update models parameters at each batch/epoch. Smaller values yield slow learning speed, while large values may result in unpredictable behavior during training.\n",
        "\n"
      ],
      "metadata": {
        "id": "03gM7g6SLVa3"
      }
    },
    {
      "cell_type": "code",
      "source": [
        "learning_rate = 1e-3\n",
        "batch_size = 64\n",
        "epochs = 10"
      ],
      "metadata": {
        "id": "YhsiRwTGLdrY"
      },
      "execution_count": 22,
      "outputs": []
    },
    {
      "cell_type": "markdown",
      "source": [
        "### Optimization Loop\n",
        "\n",
        "Once we set our hyperparameters, we can then train and optimize our model with an optimization loop. Each iteration of the optimization loop is called an epoch.\n",
        "\n",
        "Each epoch consists of two main parts:\n",
        "\n",
        "* **Train Loop**- iterate over the training dataset and try to converge to optimal parameters.\n",
        "* **Validation/Test Loop** - iterate over the test dataset to check if model performance is improving.\n",
        "\n",
        "Let’s briefly familiarize ourselves with some of the concepts used in the training loop."
      ],
      "metadata": {
        "id": "eLaYx8OpLg_A"
      }
    },
    {
      "cell_type": "markdown",
      "source": [
        "### Loss function\n",
        "\n",
        "When presented with some training data, our untrained network is likely not to give the correct answer. Loss function measures the degree of dissimilarity of obtained result to the target value, and it is the loss function that we want to minimize during training. To calculate the loss we make a prediction using the inputs of our given data sample and compare it against the true data label value.\n",
        "\n",
        "Common loss functions include [`nn.MSELoss`](https://pytorch.org/docs/stable/generated/torch.nn.MSELoss.html#torch.nn.MSELoss) (Mean Square Error) for regression tasks, and [`nn.NLLLoss`](https://pytorch.org/docs/stable/generated/torch.nn.NLLLoss.html#torch.nn.NLLLoss) (Negative Log Likelihood) for classification. [`nn.CrossEntropyLoss`](https://pytorch.org/docs/stable/generated/torch.nn.CrossEntropyLoss.html#torch.nn.CrossEntropyLoss) combines `nn.LogSoftmax` and `nn.NLLLoss`.\n",
        "\n",
        "We pass our model’s output logits to `nn.CrossEntropyLoss`, which will normalize the logits and compute the prediction error."
      ],
      "metadata": {
        "id": "9n_BnszFLwFo"
      }
    },
    {
      "cell_type": "code",
      "source": [
        "# Initialize the loss function\n",
        "loss_fn = nn.CrossEntropyLoss()"
      ],
      "metadata": {
        "id": "6EfUbtr7LswF"
      },
      "execution_count": 23,
      "outputs": []
    },
    {
      "cell_type": "markdown",
      "source": [
        "### Optimizer\n",
        "\n",
        "Optimization is the process of adjusting model parameters to reduce model error in each training step. Optimization algorithms define how this process is performed (in this example we use Stochastic Gradient Descent). All optimization logic is encapsulated in the `optimizer` object. Here, we use the SGD optimizer; additionally, there are many [different optimizers](https://pytorch.org/docs/stable/optim.html) available in PyTorch such as ADAM and RMSProp, that work better for different kinds of models and data.\n",
        "\n",
        "We initialize the optimizer by registering the model’s parameters that need to be trained, and passing in the learning rate hyperparameter."
      ],
      "metadata": {
        "id": "zjKDXHR8MXXW"
      }
    },
    {
      "cell_type": "code",
      "source": [
        "#you give the parameters here!!\n",
        "optimizer = torch.optim.SGD(model.parameters(), lr=learning_rate)"
      ],
      "metadata": {
        "id": "9fSFqrYXMjvs"
      },
      "execution_count": 24,
      "outputs": []
    },
    {
      "cell_type": "markdown",
      "source": [
        "Inside the training loop, optimization happens in three steps:\n",
        "\n",
        "* Call `optimizer.zero_grad()` to reset the gradients of model parameters. Gradients by default add up; to prevent double-counting, we explicitly zero them at each iteration.\n",
        "* Backpropagate the prediction loss with a call to `loss.backward()`. PyTorch deposits the gradients of the loss w.r.t. each parameter.\n",
        "* Once we have our gradients, we call `optimizer.step()` to adjust the parameters by the gradients collected in the backward pass.\n",
        "\n"
      ],
      "metadata": {
        "id": "Po1-t3c5MoRr"
      }
    },
    {
      "cell_type": "markdown",
      "source": [
        "### Full Implementation\n",
        "\n",
        "We define `train_loop` that loops over our optimization code, and `test_loop` that evaluates the model’s performance against our test data."
      ],
      "metadata": {
        "id": "r0xYC5L7Mym-"
      }
    },
    {
      "cell_type": "code",
      "source": [
        "def train_loop(dataloader, model, loss_fn, optimizer):\n",
        "    size = len(dataloader.dataset)\n",
        "    for batch, (X, y) in enumerate(dataloader):\n",
        "        # Compute prediction and loss\n",
        "        pred = model(X)\n",
        "        loss = loss_fn(pred, y)\n",
        "\n",
        "        # Backpropagation\n",
        "        optimizer.zero_grad()\n",
        "        loss.backward()\n",
        "        optimizer.step()\n",
        "\n",
        "        if batch % 100 == 0:\n",
        "            loss, current = loss.item(), (batch + 1) * len(X)\n",
        "            print(f\"loss: {loss:>7f}  [{current:>5d}/{size:>5d}]\")\n",
        "\n",
        "\n",
        "def test_loop(dataloader, model, loss_fn):\n",
        "    size = len(dataloader.dataset)\n",
        "    num_batches = len(dataloader)\n",
        "    test_loss, correct = 0, 0\n",
        "\n",
        "    with torch.no_grad():\n",
        "        for X, y in dataloader:\n",
        "            pred = model(X)\n",
        "            test_loss += loss_fn(pred, y).item()\n",
        "            correct += (pred.argmax(1) == y).type(torch.float).sum().item()\n",
        "\n",
        "    test_loss /= num_batches\n",
        "    correct /= size\n",
        "    print(f\"Test Error: \\n Accuracy: {(100*correct):>0.1f}%, Avg loss: {test_loss:>8f} \\n\")"
      ],
      "metadata": {
        "id": "pqTiQEXHgaQW"
      },
      "execution_count": 25,
      "outputs": []
    },
    {
      "cell_type": "markdown",
      "source": [
        "We initialize the loss function and optimizer, and pass it to `train_loop` and `test_loop`. Feel free to increase the number of epochs to track the model’s improving performance."
      ],
      "metadata": {
        "id": "q93MwM6OM7Zh"
      }
    },
    {
      "cell_type": "code",
      "source": [
        "loss_fn = nn.CrossEntropyLoss()\n",
        "optimizer = torch.optim.SGD(model.parameters(), lr=learning_rate)\n",
        "\n",
        "for t in range(epochs):\n",
        "    print(f\"Epoch {t+1}\\n-------------------------------\")\n",
        "    train_loop(train_dataloader, model, loss_fn, optimizer)\n",
        "    test_loop(test_dataloader, model, loss_fn)\n",
        "print(\"Done!\")"
      ],
      "metadata": {
        "id": "moHSkwEJM_n-",
        "outputId": "8d00cf77-d338-404d-9681-b0984fe41bca",
        "colab": {
          "base_uri": "https://localhost:8080/"
        }
      },
      "execution_count": 26,
      "outputs": [
        {
          "output_type": "stream",
          "name": "stdout",
          "text": [
            "Epoch 1\n",
            "-------------------------------\n",
            "loss: 2.312522  [   64/60000]\n",
            "loss: 2.296947  [ 6464/60000]\n",
            "loss: 2.281985  [12864/60000]\n",
            "loss: 2.270244  [19264/60000]\n",
            "loss: 2.247975  [25664/60000]\n",
            "loss: 2.217865  [32064/60000]\n",
            "loss: 2.223035  [38464/60000]\n",
            "loss: 2.190036  [44864/60000]\n",
            "loss: 2.192426  [51264/60000]\n",
            "loss: 2.145259  [57664/60000]\n",
            "Test Error: \n",
            " Accuracy: 46.2%, Avg loss: 2.147567 \n",
            "\n",
            "Epoch 2\n",
            "-------------------------------\n",
            "loss: 2.157069  [   64/60000]\n",
            "loss: 2.144704  [ 6464/60000]\n",
            "loss: 2.089043  [12864/60000]\n",
            "loss: 2.107202  [19264/60000]\n",
            "loss: 2.048284  [25664/60000]\n",
            "loss: 1.987391  [32064/60000]\n",
            "loss: 2.017378  [38464/60000]\n",
            "loss: 1.931240  [44864/60000]\n",
            "loss: 1.949091  [51264/60000]\n",
            "loss: 1.866417  [57664/60000]\n",
            "Test Error: \n",
            " Accuracy: 57.6%, Avg loss: 1.865612 \n",
            "\n",
            "Epoch 3\n",
            "-------------------------------\n",
            "loss: 1.893125  [   64/60000]\n",
            "loss: 1.858268  [ 6464/60000]\n",
            "loss: 1.744711  [12864/60000]\n",
            "loss: 1.793643  [19264/60000]\n",
            "loss: 1.679410  [25664/60000]\n",
            "loss: 1.628046  [32064/60000]\n",
            "loss: 1.656124  [38464/60000]\n",
            "loss: 1.552087  [44864/60000]\n",
            "loss: 1.588808  [51264/60000]\n",
            "loss: 1.480615  [57664/60000]\n",
            "Test Error: \n",
            " Accuracy: 62.5%, Avg loss: 1.499005 \n",
            "\n",
            "Epoch 4\n",
            "-------------------------------\n",
            "loss: 1.560166  [   64/60000]\n",
            "loss: 1.523046  [ 6464/60000]\n",
            "loss: 1.380838  [12864/60000]\n",
            "loss: 1.457025  [19264/60000]\n",
            "loss: 1.339842  [25664/60000]\n",
            "loss: 1.335050  [32064/60000]\n",
            "loss: 1.348221  [38464/60000]\n",
            "loss: 1.274967  [44864/60000]\n",
            "loss: 1.317102  [51264/60000]\n",
            "loss: 1.214142  [57664/60000]\n",
            "Test Error: \n",
            " Accuracy: 63.6%, Avg loss: 1.242184 \n",
            "\n",
            "Epoch 5\n",
            "-------------------------------\n",
            "loss: 1.316404  [   64/60000]\n",
            "loss: 1.293409  [ 6464/60000]\n",
            "loss: 1.136931  [12864/60000]\n",
            "loss: 1.241994  [19264/60000]\n",
            "loss: 1.119547  [25664/60000]\n",
            "loss: 1.146119  [32064/60000]\n",
            "loss: 1.159854  [38464/60000]\n",
            "loss: 1.104320  [44864/60000]\n",
            "loss: 1.148285  [51264/60000]\n",
            "loss: 1.060342  [57664/60000]\n",
            "Test Error: \n",
            " Accuracy: 64.6%, Avg loss: 1.083056 \n",
            "\n",
            "Epoch 6\n",
            "-------------------------------\n",
            "loss: 1.153890  [   64/60000]\n",
            "loss: 1.148286  [ 6464/60000]\n",
            "loss: 0.976445  [12864/60000]\n",
            "loss: 1.107096  [19264/60000]\n",
            "loss: 0.983193  [25664/60000]\n",
            "loss: 1.018397  [32064/60000]\n",
            "loss: 1.043715  [38464/60000]\n",
            "loss: 0.995784  [44864/60000]\n",
            "loss: 1.037738  [51264/60000]\n",
            "loss: 0.964207  [57664/60000]\n",
            "Test Error: \n",
            " Accuracy: 65.7%, Avg loss: 0.980054 \n",
            "\n",
            "Epoch 7\n",
            "-------------------------------\n",
            "loss: 1.039665  [   64/60000]\n",
            "loss: 1.053563  [ 6464/60000]\n",
            "loss: 0.866238  [12864/60000]\n",
            "loss: 1.017503  [19264/60000]\n",
            "loss: 0.896823  [25664/60000]\n",
            "loss: 0.928108  [32064/60000]\n",
            "loss: 0.967545  [38464/60000]\n",
            "loss: 0.925278  [44864/60000]\n",
            "loss: 0.960856  [51264/60000]\n",
            "loss: 0.899775  [57664/60000]\n",
            "Test Error: \n",
            " Accuracy: 67.0%, Avg loss: 0.909486 \n",
            "\n",
            "Epoch 8\n",
            "-------------------------------\n",
            "loss: 0.954915  [   64/60000]\n",
            "loss: 0.987241  [ 6464/60000]\n",
            "loss: 0.786692  [12864/60000]\n",
            "loss: 0.954177  [19264/60000]\n",
            "loss: 0.838720  [25664/60000]\n",
            "loss: 0.861582  [32064/60000]\n",
            "loss: 0.913891  [38464/60000]\n",
            "loss: 0.877808  [44864/60000]\n",
            "loss: 0.904605  [51264/60000]\n",
            "loss: 0.852855  [57664/60000]\n",
            "Test Error: \n",
            " Accuracy: 68.2%, Avg loss: 0.858306 \n",
            "\n",
            "Epoch 9\n",
            "-------------------------------\n",
            "loss: 0.889300  [   64/60000]\n",
            "loss: 0.937565  [ 6464/60000]\n",
            "loss: 0.726694  [12864/60000]\n",
            "loss: 0.907205  [19264/60000]\n",
            "loss: 0.796832  [25664/60000]\n",
            "loss: 0.810899  [32064/60000]\n",
            "loss: 0.873249  [38464/60000]\n",
            "loss: 0.844689  [44864/60000]\n",
            "loss: 0.861988  [51264/60000]\n",
            "loss: 0.816598  [57664/60000]\n",
            "Test Error: \n",
            " Accuracy: 69.5%, Avg loss: 0.819296 \n",
            "\n",
            "Epoch 10\n",
            "-------------------------------\n",
            "loss: 0.836549  [   64/60000]\n",
            "loss: 0.897920  [ 6464/60000]\n",
            "loss: 0.679394  [12864/60000]\n",
            "loss: 0.870876  [19264/60000]\n",
            "loss: 0.764806  [25664/60000]\n",
            "loss: 0.771120  [32064/60000]\n",
            "loss: 0.840555  [38464/60000]\n",
            "loss: 0.820233  [44864/60000]\n",
            "loss: 0.828422  [51264/60000]\n",
            "loss: 0.787156  [57664/60000]\n",
            "Test Error: \n",
            " Accuracy: 70.7%, Avg loss: 0.788157 \n",
            "\n",
            "Done!\n"
          ]
        }
      ]
    },
    {
      "cell_type": "markdown",
      "source": [
        "## Save and Load the Model\n",
        "\n",
        "In this section we will look at how to persist model state with saving, loading and running model predictions."
      ],
      "metadata": {
        "id": "gBkiZ4TlNENP"
      }
    },
    {
      "cell_type": "markdown",
      "source": [
        "### Saving and Loading Model Weights\n",
        "\n",
        "PyTorch models store the learned parameters in an internal state dictionary, called `state_dict`. These can be persisted via the `torch.save` method:"
      ],
      "metadata": {
        "id": "rt9B8MHcNO5o"
      }
    },
    {
      "cell_type": "code",
      "source": [
        "torch.save(model.state_dict(), 'model_weights.pth')"
      ],
      "metadata": {
        "id": "HBdz4S6gNVeh"
      },
      "execution_count": null,
      "outputs": []
    },
    {
      "cell_type": "markdown",
      "source": [
        "To load model weights, you need to create an instance of the same model first, and then load the parameters using `load_state_dict()` method:"
      ],
      "metadata": {
        "id": "7ZiO4p2sOa0i"
      }
    },
    {
      "cell_type": "code",
      "source": [
        "model_new = NeuralNetwork()\n",
        "model_new.load_state_dict(torch.load('model_weights.pth'))\n",
        "model_new.eval()"
      ],
      "metadata": {
        "id": "QkM47JCzOJff"
      },
      "execution_count": null,
      "outputs": []
    },
    {
      "cell_type": "markdown",
      "source": [
        "### Saving and Loading Models with Shapes\n",
        "\n",
        "When loading model weights, we needed to instantiate the model class first, because the class defines the structure of a network. We might want to save the structure of this class together with the model, in which case we can pass model (and not `model.state_dict()`) to the saving function:"
      ],
      "metadata": {
        "id": "yg5vIJHAOmpZ"
      }
    },
    {
      "cell_type": "code",
      "source": [
        "torch.save(model, 'model.pth')\n",
        "model_new = torch.load('model.pth')"
      ],
      "metadata": {
        "id": "CInluGULO90H"
      },
      "execution_count": null,
      "outputs": []
    }
  ]
}